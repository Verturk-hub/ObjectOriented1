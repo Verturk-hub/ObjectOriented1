{
 "cells": [
  {
   "cell_type": "code",
   "execution_count": 1,
   "source": [
    "class Pokemon():\r\n",
    "    def __init__(self,name,Type,health):\r\n",
    "            self.name=name\r\n",
    "            self.Type=Type\r\n",
    "            self.health=health"
   ],
   "outputs": [],
   "metadata": {}
  },
  {
   "cell_type": "code",
   "execution_count": 2,
   "source": [
    "def attack(self):\r\n",
    "    print('run!')\r\n",
    "\r\n",
    "def dodge(self):\r\n",
    "    print('pikachu dodge!')\r\n",
    "\r\n",
    "def evolve(self):\r\n",
    "    print('evolving to pikachu!')"
   ],
   "outputs": [],
   "metadata": {}
  },
  {
   "cell_type": "code",
   "execution_count": 3,
   "source": [
    "pk1= Pokemon('pikachu','electric',100)\r\n",
    "pk1.Type"
   ],
   "outputs": [
    {
     "output_type": "execute_result",
     "data": {
      "text/plain": [
       "'electric'"
      ]
     },
     "metadata": {},
     "execution_count": 3
    }
   ],
   "metadata": {}
  },
  {
   "cell_type": "code",
   "execution_count": 6,
   "source": [
    "pk1.name"
   ],
   "outputs": [
    {
     "output_type": "execute_result",
     "data": {
      "text/plain": [
       "'pikachu'"
      ]
     },
     "metadata": {},
     "execution_count": 6
    }
   ],
   "metadata": {}
  },
  {
   "cell_type": "code",
   "execution_count": 3,
   "source": [
    "class Car():\r\n",
    "    def __init__(self,ndoors,nwheels):\r\n",
    "            self.ndoors=ndoors\r\n",
    "            self.nwheels=nwheels"
   ],
   "outputs": [],
   "metadata": {}
  },
  {
   "cell_type": "code",
   "execution_count": 4,
   "source": [
    "class bmw(Car):\r\n",
    "    def __init__(self,ndoors,nwheels, engine):\r\n",
    "        Car.__init__(self,ndoors,nwheels)\r\n",
    "        self.engine = engine\r\n",
    "\r\n",
    "    def drive(self):\r\n",
    "        print('I am driving bmw')"
   ],
   "outputs": [],
   "metadata": {}
  },
  {
   "cell_type": "code",
   "execution_count": 5,
   "source": [
    "BMW = bmw('4','4','V8')\r\n",
    "BMW.engine\r\n"
   ],
   "outputs": [
    {
     "output_type": "execute_result",
     "data": {
      "text/plain": [
       "'V8'"
      ]
     },
     "metadata": {},
     "execution_count": 5
    }
   ],
   "metadata": {}
  }
 ],
 "metadata": {
  "orig_nbformat": 4,
  "language_info": {
   "name": "python",
   "version": "3.8.3",
   "mimetype": "text/x-python",
   "codemirror_mode": {
    "name": "ipython",
    "version": 3
   },
   "pygments_lexer": "ipython3",
   "nbconvert_exporter": "python",
   "file_extension": ".py"
  },
  "kernelspec": {
   "name": "python3",
   "display_name": "Python 3.8.3 64-bit ('base': conda)"
  },
  "interpreter": {
   "hash": "46182d5f787c7496ac3d2ccd0c5d8bf41bffd3ac5e5e93146af501a7f382c533"
  }
 },
 "nbformat": 4,
 "nbformat_minor": 2
}